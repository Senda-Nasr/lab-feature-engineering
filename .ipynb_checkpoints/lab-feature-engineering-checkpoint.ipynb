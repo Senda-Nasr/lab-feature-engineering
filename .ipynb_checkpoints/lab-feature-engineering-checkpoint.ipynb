{
 "cells": [
  {
   "cell_type": "markdown",
   "metadata": {
    "id": "5E6c_BjZDgl4"
   },
   "source": [
    "In this notebook, we're going to work with an extended version of the \"Heatlh Care for All\" dataset will lots of new columns. We will start reviewing the manual data cleaning process for numerical, and categorical columns for some columns. Later, during the week we will cover automated ways to select the best subsets of columns to be used in our analysis."
   ]
  },
  {
   "cell_type": "markdown",
   "metadata": {
    "id": "7BxdS3wjgulL"
   },
   "source": [
    "# 7.01\n"
   ]
  },
  {
   "cell_type": "markdown",
   "metadata": {
    "id": "1HVP8DBr8-AL"
   },
   "source": [
    "# Loading libraries"
   ]
  },
  {
   "cell_type": "code",
   "execution_count": null,
   "metadata": {
    "executionInfo": {
     "elapsed": 5851,
     "status": "ok",
     "timestamp": 1705323445501,
     "user": {
      "displayName": "Ignacio Soteras",
      "userId": "02050793736257155229"
     },
     "user_tz": -60
    },
    "id": "uQDtuTpIgulR"
   },
   "outputs": [],
   "source": [
    "import pandas as pd\n",
    "import numpy as np\n",
    "import matplotlib.pyplot as plt\n",
    "import seaborn as sns\n",
    "pd.set_option('display.max_columns', None)\n"
   ]
  },
  {
   "cell_type": "markdown",
   "metadata": {
    "id": "V5Agqawp9Bx1"
   },
   "source": [
    "# Reading data"
   ]
  },
  {
   "cell_type": "code",
   "execution_count": null,
   "metadata": {
    "colab": {
     "base_uri": "https://localhost:8080/"
    },
    "executionInfo": {
     "elapsed": 8866,
     "status": "ok",
     "timestamp": 1705323513547,
     "user": {
      "displayName": "Ignacio Soteras",
      "userId": "02050793736257155229"
     },
     "user_tz": -60
    },
    "id": "B9-PcfNB5K4d",
    "outputId": "9c57d8b5-cf9f-4117-86ac-e2300cab221d"
   },
   "outputs": [],
   "source": [
    "data = pd.read_csv('learningSet.csv')"
   ]
  },
  {
   "cell_type": "code",
   "execution_count": null,
   "metadata": {
    "colab": {
     "base_uri": "https://localhost:8080/",
     "height": 243
    },
    "executionInfo": {
     "elapsed": 427,
     "status": "ok",
     "timestamp": 1705323513959,
     "user": {
      "displayName": "Ignacio Soteras",
      "userId": "02050793736257155229"
     },
     "user_tz": -60
    },
    "id": "IhIQGVCo45Gf",
    "outputId": "a2b4b614-31e4-42fa-9ebf-889da7554739"
   },
   "outputs": [],
   "source": [
    "print(data.shape)\n",
    "data.head()"
   ]
  },
  {
   "cell_type": "markdown",
   "metadata": {
    "id": "tObJFHaESyq3"
   },
   "source": [
    "Column \"TARGET_B\" encodes if the customer answered or not the call"
   ]
  },
  {
   "cell_type": "code",
   "execution_count": null,
   "metadata": {
    "colab": {
     "base_uri": "https://localhost:8080/"
    },
    "executionInfo": {
     "elapsed": 26,
     "status": "ok",
     "timestamp": 1705323513960,
     "user": {
      "displayName": "Ignacio Soteras",
      "userId": "02050793736257155229"
     },
     "user_tz": -60
    },
    "id": "ch4kkMnKgulS",
    "outputId": "ec9e7131-187c-4b60-960e-dbe7ab699cd7"
   },
   "outputs": [],
   "source": [
    "data['TARGET_B'].value_counts()"
   ]
  },
  {
   "cell_type": "markdown",
   "metadata": {
    "id": "hW8z-chkS6sz"
   },
   "source": [
    "Column \"TARGET_D\" provide the donation amount."
   ]
  },
  {
   "cell_type": "code",
   "execution_count": null,
   "metadata": {
    "colab": {
     "base_uri": "https://localhost:8080/"
    },
    "executionInfo": {
     "elapsed": 23,
     "status": "ok",
     "timestamp": 1705323513960,
     "user": {
      "displayName": "Ignacio Soteras",
      "userId": "02050793736257155229"
     },
     "user_tz": -60
    },
    "id": "Am5x0WrPgulT",
    "outputId": "91bcf9e8-682e-4524-de62-79314b4a1fe0"
   },
   "outputs": [],
   "source": [
    "data['TARGET_D'].describe()"
   ]
  },
  {
   "cell_type": "code",
   "execution_count": null,
   "metadata": {
    "colab": {
     "base_uri": "https://localhost:8080/"
    },
    "executionInfo": {
     "elapsed": 20,
     "status": "ok",
     "timestamp": 1705323513960,
     "user": {
      "displayName": "Ignacio Soteras",
      "userId": "02050793736257155229"
     },
     "user_tz": -60
    },
    "id": "saUyjKlJuRYN",
    "outputId": "1085cd7d-3d17-4eef-a878-d6423d3dccaf"
   },
   "outputs": [],
   "source": [
    "data[data['TARGET_B']>0]['TARGET_D'].describe()"
   ]
  },
  {
   "cell_type": "markdown",
   "metadata": {
    "id": "Jb_oNbVf5h70"
   },
   "source": [
    "To solve this problem we will first build a classification model to predict who will more likely respond and then for those respondents, we will build a regression model to predict the donation amount.\n",
    "\n",
    "Then we can use the cost matrix to calculate the total benefit from the donations (remember that the company has to do a mailing champaing and each envelope costs some money).\n",
    "\n",
    "Some of the challenges with the dataset are as follows:\n",
    "\n",
    "* Large number of features: The data set has over 450 features. Hence selecting the right features for the model is very critical and at the same time it is not easy as the same traditional ways of removing features is not effective given the large number of features. Apart from feature selection, feature extraction (creating your own features using the existing features) is also not easy in this case.\n",
    "\n",
    "* Sparsity of the dataset: There are a lot of features with a large number of null values.\n",
    "\n",
    "* Data imbalance: For developing a classification, there is a huge imbalance in the training dataset with only approximately 5000 values for one category as compared to cover 95,000 instances for the other category."
   ]
  },
  {
   "cell_type": "markdown",
   "metadata": {
    "id": "DS1LknszgulT"
   },
   "source": [
    "# Review data cleaning process"
   ]
  },
  {
   "cell_type": "markdown",
   "metadata": {
    "id": "5HUMkzE-7b62"
   },
   "source": [
    "There are a lot of columns that have a very high percentage of null values. It is a highly sparse dataset.\n",
    "We can decide on a threshold and then remove those variables. There is no rule of thumb to decide on this threshold value.\n",
    "Sometimes it can as low as 25%-30%. And sometimes in some data sets you might find that even though there are more than 50% missing values in a column, you might have to include that variable in your analysis.\n",
    "A lot of it depends on the business context as well. In this case we will take this threshold to be 25% and then check the definitions of the columns filtered, to see if there is any column that we might want to keep."
   ]
  },
  {
   "cell_type": "code",
   "execution_count": null,
   "metadata": {
    "colab": {
     "base_uri": "https://localhost:8080/"
    },
    "executionInfo": {
     "elapsed": 15,
     "status": "ok",
     "timestamp": 1705323513960,
     "user": {
      "displayName": "Ignacio Soteras",
      "userId": "02050793736257155229"
     },
     "user_tz": -60
    },
    "id": "NkD2NI5JbVY6",
    "outputId": "fed41dc2-be61-4d73-8fd8-c627ace4f0f1"
   },
   "outputs": [],
   "source": [
    "data.shape[0]"
   ]
  },
  {
   "cell_type": "code",
   "execution_count": null,
   "metadata": {
    "colab": {
     "base_uri": "https://localhost:8080/"
    },
    "executionInfo": {
     "elapsed": 12,
     "status": "ok",
     "timestamp": 1705323513960,
     "user": {
      "displayName": "Ignacio Soteras",
      "userId": "02050793736257155229"
     },
     "user_tz": -60
    },
    "id": "ydNbUofnbYM_",
    "outputId": "61f4283d-074e-434d-9e3b-c81d3f702769"
   },
   "outputs": [],
   "source": [
    "len(data)"
   ]
  },
  {
   "cell_type": "code",
   "execution_count": null,
   "metadata": {
    "colab": {
     "base_uri": "https://localhost:8080/",
     "height": 423
    },
    "executionInfo": {
     "elapsed": 1114,
     "status": "ok",
     "timestamp": 1705323515064,
     "user": {
      "displayName": "Ignacio Soteras",
      "userId": "02050793736257155229"
     },
     "user_tz": -60
    },
    "id": "Cd7wYAqXgulU",
    "outputId": "359df47e-d041-46db-fa04-97c5be5580d8",
    "scrolled": false
   },
   "outputs": [],
   "source": [
    "nulls_percent_df = pd.DataFrame(data.isna().sum()/len(data)).reset_index()\n",
    "nulls_percent_df.columns = ['column_name', 'nulls_percentage']\n",
    "nulls_percent_df"
   ]
  },
  {
   "cell_type": "markdown",
   "metadata": {
    "id": "VauGIiltUCea"
   },
   "source": [
    "Which columns have NA's?"
   ]
  },
  {
   "cell_type": "code",
   "execution_count": null,
   "metadata": {
    "colab": {
     "base_uri": "https://localhost:8080/",
     "height": 423
    },
    "executionInfo": {
     "elapsed": 15,
     "status": "ok",
     "timestamp": 1705323515064,
     "user": {
      "displayName": "Ignacio Soteras",
      "userId": "02050793736257155229"
     },
     "user_tz": -60
    },
    "id": "9rvjMejT6U41",
    "outputId": "f29aa020-a0f3-4df4-ae4d-48738987eed3"
   },
   "outputs": [],
   "source": [
    "nulls_percent_df[nulls_percent_df['nulls_percentage']!=0]"
   ]
  },
  {
   "cell_type": "code",
   "execution_count": null,
   "metadata": {
    "colab": {
     "base_uri": "https://localhost:8080/"
    },
    "executionInfo": {
     "elapsed": 13,
     "status": "ok",
     "timestamp": 1705323515064,
     "user": {
      "displayName": "Ignacio Soteras",
      "userId": "02050793736257155229"
     },
     "user_tz": -60
    },
    "id": "H27JCHqIgulU",
    "outputId": "8b6a97e7-654e-4bd6-a1fd-127ebc27a75b"
   },
   "outputs": [],
   "source": [
    "columns_above_threshold = nulls_percent_df[nulls_percent_df['nulls_percentage']>0.25]\n",
    "columns_above_threshold['column_name']"
   ]
  },
  {
   "cell_type": "code",
   "execution_count": null,
   "metadata": {
    "colab": {
     "base_uri": "https://localhost:8080/"
    },
    "executionInfo": {
     "elapsed": 10,
     "status": "ok",
     "timestamp": 1705323515064,
     "user": {
      "displayName": "Ignacio Soteras",
      "userId": "02050793736257155229"
     },
     "user_tz": -60
    },
    "id": "BnYtuY7CgulV",
    "outputId": "53aa58d6-8f31-4588-cfe3-28b0bf387caf"
   },
   "outputs": [],
   "source": [
    "drop_columns_list = list(columns_above_threshold['column_name'])\n",
    "print(drop_columns_list)"
   ]
  },
  {
   "cell_type": "markdown",
   "metadata": {
    "id": "qy3vrGB3gulV"
   },
   "source": [
    "From the list above that includes the columns that have over 25% null values, you discussed with your manager you were told that the following columns are important -> **wealth1, wealth2**\n",
    "We will remove these variables from the above list\n",
    "RDATE3, RAMNT_3 are important but they have too many null values"
   ]
  },
  {
   "cell_type": "markdown",
   "metadata": {
    "id": "z4SmdgRzgulV"
   },
   "source": [
    "# Activity\n",
    "\n",
    "Create a function that takes a dataframe as an input and a percentual threshold (default value = 0.25) and returns a list of columns with null values greater than the specified threshold"
   ]
  },
  {
   "cell_type": "code",
   "execution_count": null,
   "metadata": {
    "executionInfo": {
     "elapsed": 8,
     "status": "ok",
     "timestamp": 1705323515065,
     "user": {
      "displayName": "Ignacio Soteras",
      "userId": "02050793736257155229"
     },
     "user_tz": -60
    },
    "id": "Yv-nx-W8gulW"
   },
   "outputs": [],
   "source": [
    "def remove_cols_with_na(df: pd.DataFrame, thr = 0.25)-> list:\n",
    "    nulls_percent_df = pd.DataFrame(df.isna().sum()/len(data)).reset_index()\n",
    "    nulls_percent_df.columns = ['column_name', 'nulls_percentage']\n",
    "    return list(nulls_percent_df[nulls_percent_df['nulls_percentage'] > thr]['column_name'].values)"
   ]
  },
  {
   "cell_type": "code",
   "execution_count": null,
   "metadata": {
    "colab": {
     "base_uri": "https://localhost:8080/"
    },
    "executionInfo": {
     "elapsed": 1314,
     "status": "ok",
     "timestamp": 1705323516371,
     "user": {
      "displayName": "Ignacio Soteras",
      "userId": "02050793736257155229"
     },
     "user_tz": -60
    },
    "id": "7CFRhSasgulW",
    "outputId": "52d753c7-6503-4c66-eece-db9c9a79927f"
   },
   "outputs": [],
   "source": [
    "remove_cols_with_na(data, 0.25)"
   ]
  },
  {
   "cell_type": "code",
   "execution_count": null,
   "metadata": {
    "executionInfo": {
     "elapsed": 4,
     "status": "ok",
     "timestamp": 1705323516371,
     "user": {
      "displayName": "Ignacio Soteras",
      "userId": "02050793736257155229"
     },
     "user_tz": -60
    },
    "id": "DP6AHniCEgd7"
   },
   "outputs": [],
   "source": [
    "# End of the activity"
   ]
  },
  {
   "cell_type": "markdown",
   "metadata": {
    "id": "i8M_c2RcgulW"
   },
   "source": [
    "# More data cleaning"
   ]
  },
  {
   "cell_type": "code",
   "execution_count": null,
   "metadata": {
    "colab": {
     "base_uri": "https://localhost:8080/",
     "height": 226
    },
    "executionInfo": {
     "elapsed": 313,
     "status": "ok",
     "timestamp": 1705323516681,
     "user": {
      "displayName": "Ignacio Soteras",
      "userId": "02050793736257155229"
     },
     "user_tz": -60
    },
    "id": "k8LfcsVQgulW",
    "outputId": "ad32bd64-0c04-4764-9578-bd0276c707ec"
   },
   "outputs": [],
   "source": [
    "data.head()"
   ]
  },
  {
   "cell_type": "markdown",
   "metadata": {
    "id": "J16HXxbUgulX"
   },
   "source": [
    "We can see that there are a lot of columns that have blank spaces which represent no value in this case.\n",
    "They were not identified as null values by python as they are empty spaces that are read as character values by\n",
    "python. We will replace those values by NaNs and repeat the analysis\n",
    "\n",
    "Before we do that we will replace the blank values from the column \"MAILCODE\" by \"A\" which would mean the address is okay (pl check the definition of the variable in the description)"
   ]
  },
  {
   "cell_type": "code",
   "execution_count": null,
   "metadata": {
    "colab": {
     "base_uri": "https://localhost:8080/"
    },
    "executionInfo": {
     "elapsed": 12,
     "status": "ok",
     "timestamp": 1705323516681,
     "user": {
      "displayName": "Ignacio Soteras",
      "userId": "02050793736257155229"
     },
     "user_tz": -60
    },
    "id": "2ma4YVP7gulX",
    "outputId": "396d8407-f4f7-4b7b-c2dc-b746d75ea100"
   },
   "outputs": [],
   "source": [
    "data['MAILCODE'].value_counts()"
   ]
  },
  {
   "cell_type": "code",
   "execution_count": null,
   "metadata": {
    "colab": {
     "base_uri": "https://localhost:8080/"
    },
    "executionInfo": {
     "elapsed": 8,
     "status": "ok",
     "timestamp": 1705323516681,
     "user": {
      "displayName": "Ignacio Soteras",
      "userId": "02050793736257155229"
     },
     "user_tz": -60
    },
    "id": "ucB122UXBvLP",
    "outputId": "631653e3-87f1-4c31-8715-ade68dbb514c"
   },
   "outputs": [],
   "source": [
    "data['MAILCODE'].unique()"
   ]
  },
  {
   "cell_type": "code",
   "execution_count": null,
   "metadata": {
    "executionInfo": {
     "elapsed": 6,
     "status": "ok",
     "timestamp": 1705323516681,
     "user": {
      "displayName": "Ignacio Soteras",
      "userId": "02050793736257155229"
     },
     "user_tz": -60
    },
    "id": "Il6fU7EVgulX"
   },
   "outputs": [],
   "source": [
    "data['MAILCODE'] = data['MAILCODE'].apply(lambda x: x.replace(\" \", \"A\"))\n",
    "#data['MAILCODE'] = np.where(data['MAILCODE'] == \" \", \"A\",data['MAILCODE'] )\n",
    "#data['MAILCODE'] = data['MAILCODE'].apply(lambda x: x if (x != \" \") else \"A\")\n",
    "# function(arg1)\n",
    "#df[col] = list(map(function,df[col]))\n",
    "# function(arg1, arg2, arg3)\n",
    "#df[col] = list(map(function,df[col],[arg2]*len(df), [arg3]*len(df)))"
   ]
  },
  {
   "cell_type": "code",
   "execution_count": null,
   "metadata": {
    "executionInfo": {
     "elapsed": 6,
     "status": "ok",
     "timestamp": 1705323516682,
     "user": {
      "displayName": "Ignacio Soteras",
      "userId": "02050793736257155229"
     },
     "user_tz": -60
    },
    "id": "1XrbY5EqgulX"
   },
   "outputs": [],
   "source": [
    "# Now we can replace the rest space characters with np.NaN"
   ]
  },
  {
   "cell_type": "code",
   "execution_count": null,
   "metadata": {
    "executionInfo": {
     "elapsed": 1494,
     "status": "ok",
     "timestamp": 1705323518170,
     "user": {
      "displayName": "Ignacio Soteras",
      "userId": "02050793736257155229"
     },
     "user_tz": -60
    },
    "id": "TLGZ_CWBgulY"
   },
   "outputs": [],
   "source": [
    "data = data.apply(lambda x: x.replace(\" \", np.NaN))"
   ]
  },
  {
   "cell_type": "code",
   "execution_count": null,
   "metadata": {
    "colab": {
     "base_uri": "https://localhost:8080/",
     "height": 226
    },
    "executionInfo": {
     "elapsed": 319,
     "status": "ok",
     "timestamp": 1705323518485,
     "user": {
      "displayName": "Ignacio Soteras",
      "userId": "02050793736257155229"
     },
     "user_tz": -60
    },
    "id": "SJL4ENIggulY",
    "outputId": "857d62b0-0d7c-4a19-d9e5-9715c4e2bd8c"
   },
   "outputs": [],
   "source": [
    "data.head()"
   ]
  },
  {
   "cell_type": "markdown",
   "metadata": {
    "id": "sNFGy97PgulY"
   },
   "source": [
    "# Activity\n",
    "\n",
    "Use the previous function to obtain the columns with null values greater than 0.25 and store those columns in a list called \"drop_columns_list\""
   ]
  },
  {
   "cell_type": "code",
   "execution_count": null,
   "metadata": {
    "executionInfo": {
     "elapsed": 1892,
     "status": "ok",
     "timestamp": 1705323520373,
     "user": {
      "displayName": "Ignacio Soteras",
      "userId": "02050793736257155229"
     },
     "user_tz": -60
    },
    "id": "6mroUsC0gulY"
   },
   "outputs": [],
   "source": [
    "drop_columns_list = remove_cols_with_na(data)"
   ]
  },
  {
   "cell_type": "code",
   "execution_count": null,
   "metadata": {
    "executionInfo": {
     "elapsed": 15,
     "status": "ok",
     "timestamp": 1705323520373,
     "user": {
      "displayName": "Ignacio Soteras",
      "userId": "02050793736257155229"
     },
     "user_tz": -60
    },
    "id": "WtoiyI15E2C4"
   },
   "outputs": [],
   "source": [
    "# End of activity"
   ]
  },
  {
   "cell_type": "markdown",
   "metadata": {
    "id": "b93Maz-dgulZ"
   },
   "source": [
    "We would again repeat the same exercise as the last time. We will discuss it with the team, manager, and/or other stakeholders to see which columns we need to retain here.\n",
    "\n",
    "Like the last time we will keep the following columns. **wealth1, wealth2 along with these VETERANS, SOLIH**\n",
    "\n",
    "Remove those column's names from the list of columns to drop."
   ]
  },
  {
   "cell_type": "code",
   "execution_count": null,
   "metadata": {
    "colab": {
     "base_uri": "https://localhost:8080/"
    },
    "executionInfo": {
     "elapsed": 15,
     "status": "ok",
     "timestamp": 1705323520374,
     "user": {
      "displayName": "Ignacio Soteras",
      "userId": "02050793736257155229"
     },
     "user_tz": -60
    },
    "id": "Mt6g_lYKlcpQ",
    "outputId": "8cc46a6e-f5c2-496c-fd5b-3cfca7d01b65"
   },
   "outputs": [],
   "source": [
    "# list comprehension\n",
    "my_list = []\n",
    "\n",
    "for number in range(1,11):\n",
    "    my_list.append(number)\n",
    "\n",
    "my_list\n",
    "\n",
    "# List comprehension syntax\n",
    "# [value for item in list]\n",
    "my_list = [ number for number in range(1,11) ]\n",
    "my_list\n",
    "\n",
    "my_list = []\n",
    "\n",
    "for number in range(1,11):\n",
    "    if ( number%2 == 0 ):\n",
    "        my_list.append(number)\n",
    "\n",
    "my_list\n",
    "\n",
    "# List comprehension syntax with a conditional\n",
    "# [value for item in list if (condition)]\n",
    "my_list = [ number for number in range(1,11) if (number%2 == 0)]\n",
    "my_list\n",
    "\n",
    "my_list = []\n",
    "\n",
    "for number in range(1,11):\n",
    "    if ( number%2 == 0 ):\n",
    "        my_list.append(number)\n",
    "    else:\n",
    "        my_list.append(0)\n",
    "\n",
    "my_list\n",
    "\n",
    "# List comprehension syntax with a conditional with an else\n",
    "# [value if (condition) else other_value for item in list]\n",
    "my_list = [ number if (number%2 == 0) else 0 for number in range(1,11) ]\n",
    "my_list"
   ]
  },
  {
   "cell_type": "code",
   "execution_count": null,
   "metadata": {
    "executionInfo": {
     "elapsed": 14,
     "status": "ok",
     "timestamp": 1705323520374,
     "user": {
      "displayName": "Ignacio Soteras",
      "userId": "02050793736257155229"
     },
     "user_tz": -60
    },
    "id": "U7OUxjKdE7za"
   },
   "outputs": [],
   "source": [
    "def remove_columns(df, thr = 0.25, blacklist=None):\n",
    "    ...\n",
    "    if ( blacklist != None):\n",
    "        drop_columns_list = [ col for col in drop_columns_list if col not in blacklist ]"
   ]
  },
  {
   "cell_type": "code",
   "execution_count": null,
   "metadata": {
    "executionInfo": {
     "elapsed": 13,
     "status": "ok",
     "timestamp": 1705323520374,
     "user": {
      "displayName": "Ignacio Soteras",
      "userId": "02050793736257155229"
     },
     "user_tz": -60
    },
    "id": "yxlxEDIOgulZ"
   },
   "outputs": [],
   "source": [
    "drop_columns_list = [ col for col in drop_columns_list if col not in ['WEALTH1','WEALTH2','VETERANS','SOLIH'] ]"
   ]
  },
  {
   "cell_type": "code",
   "execution_count": null,
   "metadata": {
    "colab": {
     "base_uri": "https://localhost:8080/"
    },
    "executionInfo": {
     "elapsed": 13,
     "status": "ok",
     "timestamp": 1705323520374,
     "user": {
      "displayName": "Ignacio Soteras",
      "userId": "02050793736257155229"
     },
     "user_tz": -60
    },
    "id": "Igfrus2GHNw3",
    "outputId": "cb2e471e-3216-4c0a-9a45-9f23b1fd929c"
   },
   "outputs": [],
   "source": [
    "len(drop_columns_list)"
   ]
  },
  {
   "cell_type": "markdown",
   "metadata": {
    "id": "bgXoo7VHgula"
   },
   "source": [
    "# X-y split"
   ]
  },
  {
   "cell_type": "markdown",
   "metadata": {
    "id": "bHi0yh0V8yY_"
   },
   "source": [
    "Since we have a huge number of features, it would be easier to work independently on numerical features and categorical features.\n",
    "\n",
    "For the target variables, for now we will retain them both together. But later, we will build a classification model first where we would need the column TARGET_B only."
   ]
  },
  {
   "cell_type": "code",
   "execution_count": null,
   "metadata": {
    "colab": {
     "base_uri": "https://localhost:8080/",
     "height": 206
    },
    "executionInfo": {
     "elapsed": 10,
     "status": "ok",
     "timestamp": 1705323520374,
     "user": {
      "displayName": "Ignacio Soteras",
      "userId": "02050793736257155229"
     },
     "user_tz": -60
    },
    "id": "3zRiRPxIgula",
    "outputId": "9c179342-528a-4aa6-b7e0-93e7effd95d5"
   },
   "outputs": [],
   "source": [
    "Y = data[['TARGET_B', 'TARGET_D']]\n",
    "Y.head()"
   ]
  },
  {
   "cell_type": "code",
   "execution_count": null,
   "metadata": {
    "colab": {
     "base_uri": "https://localhost:8080/",
     "height": 226
    },
    "executionInfo": {
     "elapsed": 961,
     "status": "ok",
     "timestamp": 1705323521327,
     "user": {
      "displayName": "Ignacio Soteras",
      "userId": "02050793736257155229"
     },
     "user_tz": -60
    },
    "id": "Jw6Wk3Z-gula",
    "outputId": "04fdab88-75a7-487e-f4fb-2f8b03a6c51d"
   },
   "outputs": [],
   "source": [
    "numerical = data.select_dtypes(np.number)\n",
    "numerical = numerical.drop(columns = ['TARGET_B', 'TARGET_D'])\n",
    "numerical.head()"
   ]
  },
  {
   "cell_type": "code",
   "execution_count": null,
   "metadata": {
    "colab": {
     "base_uri": "https://localhost:8080/"
    },
    "executionInfo": {
     "elapsed": 13,
     "status": "ok",
     "timestamp": 1705323521327,
     "user": {
      "displayName": "Ignacio Soteras",
      "userId": "02050793736257155229"
     },
     "user_tz": -60
    },
    "id": "24AAOgbyuRYg",
    "outputId": "bde68c36-9a0c-4a8c-a286-4c2d427d1a06"
   },
   "outputs": [],
   "source": [
    "numerical.shape"
   ]
  },
  {
   "cell_type": "code",
   "execution_count": null,
   "metadata": {
    "colab": {
     "base_uri": "https://localhost:8080/",
     "height": 226
    },
    "executionInfo": {
     "elapsed": 13,
     "status": "ok",
     "timestamp": 1705323521328,
     "user": {
      "displayName": "Ignacio Soteras",
      "userId": "02050793736257155229"
     },
     "user_tz": -60
    },
    "id": "M3aMTkVEgulb",
    "outputId": "2c8c023a-fd83-46c8-e4ea-7da4a9a2a019"
   },
   "outputs": [],
   "source": [
    "categorical = data.select_dtypes([object])\n",
    "categorical.head()"
   ]
  },
  {
   "cell_type": "code",
   "execution_count": null,
   "metadata": {
    "colab": {
     "base_uri": "https://localhost:8080/"
    },
    "executionInfo": {
     "elapsed": 11,
     "status": "ok",
     "timestamp": 1705323521328,
     "user": {
      "displayName": "Ignacio Soteras",
      "userId": "02050793736257155229"
     },
     "user_tz": -60
    },
    "id": "cOWVZQv6uRYh",
    "outputId": "358a83b6-11b7-48de-a5ba-e809508b5031"
   },
   "outputs": [],
   "source": [
    "categorical.shape"
   ]
  },
  {
   "cell_type": "markdown",
   "metadata": {
    "id": "EqJRlqGJgulb"
   },
   "source": [
    "# Working with categorical columns"
   ]
  },
  {
   "cell_type": "markdown",
   "metadata": {
    "id": "DCKecBEr9FA0"
   },
   "source": [
    "We will work with the categorical features first. Look at the columns one by one. Some of the operations which we will perform are:\n",
    "\n",
    "- Replace null values with the most occurring categories\n",
    "- Reduce the number of categories in a column by grouping\n",
    "\n",
    "It is important to note that some columns are defined by python as categorical/object types. There might be other columns defined as numerical that we want as categorical. We will look them later when we were working on numerical types."
   ]
  },
  {
   "cell_type": "code",
   "execution_count": null,
   "metadata": {
    "colab": {
     "base_uri": "https://localhost:8080/"
    },
    "executionInfo": {
     "elapsed": 2331,
     "status": "ok",
     "timestamp": 1705323523651,
     "user": {
      "displayName": "Ignacio Soteras",
      "userId": "02050793736257155229"
     },
     "user_tz": -60
    },
    "id": "sKt7l7_igulb",
    "outputId": "8ddd1106-6854-4824-f547-2c98b29f1b70"
   },
   "outputs": [],
   "source": [
    "categorical.isna().sum()"
   ]
  },
  {
   "cell_type": "markdown",
   "metadata": {
    "id": "aXU1mWm_gulb"
   },
   "source": [
    "# Categorical Variables"
   ]
  },
  {
   "cell_type": "markdown",
   "metadata": {
    "id": "JoX043m3gulc"
   },
   "source": [
    "Here we will try to reduce the number of categories. An ideal way would have been to group the states into\n",
    "regions. But in this case we will group all the states with counts less than 2500 into one category \"other\""
   ]
  },
  {
   "cell_type": "code",
   "execution_count": null,
   "metadata": {
    "executionInfo": {
     "elapsed": 435,
     "status": "ok",
     "timestamp": 1705323524081,
     "user": {
      "displayName": "Ignacio Soteras",
      "userId": "02050793736257155229"
     },
     "user_tz": -60
    },
    "id": "1JFCqWUZgulc"
   },
   "outputs": [],
   "source": [
    "df = pd.DataFrame(categorical['STATE'].value_counts()).reset_index()\n",
    "\n",
    "\n",
    "df.columns = ['state', 'count']\n",
    "other_states = list(df[df['count']<2500]['state'])\n",
    "\n",
    "# other_states = ['CA','AR','MD']\n",
    "def clean_state(x):\n",
    "    if x in other_states:\n",
    "        return 'other'\n",
    "    else:\n",
    "        return x\n",
    "\n",
    "# clean_states(x,other_states) for x, other_states in zip(categorical['STATE'].values,other_states)\n",
    "categorical['STATE'] = list(map(clean_state, categorical['STATE']))\n",
    "#categorical['STATE'] = categorical['STATE'].apply(clean_state)"
   ]
  },
  {
   "cell_type": "code",
   "execution_count": null,
   "metadata": {
    "colab": {
     "base_uri": "https://localhost:8080/"
    },
    "executionInfo": {
     "elapsed": 4,
     "status": "ok",
     "timestamp": 1705323524082,
     "user": {
      "displayName": "Ignacio Soteras",
      "userId": "02050793736257155229"
     },
     "user_tz": -60
    },
    "id": "1pnj5v2_9a35",
    "outputId": "498fdc21-4f92-44c4-fc3f-f8baeb75f503"
   },
   "outputs": [],
   "source": [
    "categorical['STATE'].value_counts()"
   ]
  },
  {
   "cell_type": "markdown",
   "metadata": {
    "id": "7XOWfN37gulc"
   },
   "source": [
    "# 7.01 Lab | Revisiting Machine Learning Case Study"
   ]
  },
  {
   "cell_type": "code",
   "execution_count": null,
   "metadata": {},
   "outputs": [],
   "source": [
    "categorical.isnull().sum()"
   ]
  },
  {
   "cell_type": "code",
   "execution_count": null,
   "metadata": {},
   "outputs": [],
   "source": [
    "drop_list= []\n",
    "drop_list+= ['OSOURCE', 'ZIP']\n",
    "display(drop_list)"
   ]
  },
  {
   "cell_type": "code",
   "execution_count": null,
   "metadata": {
    "scrolled": true
   },
   "outputs": [],
   "source": [
    "cols_null_percentage= categorical.isnull().sum()/len(categorical)\n",
    "cols_with_high_perc= pd.DataFrame(cols_null_percentage[cols_null_percentage>0.85]).reset_index()\n",
    "cols_with_high_perc.columns= ['column_name', 'null_percentage']\n",
    "drop_list.extend(cols_with_high_perc['column_name'])\n",
    "drop_list"
   ]
  },
  {
   "cell_type": "code",
   "execution_count": null,
   "metadata": {},
   "outputs": [],
   "source": [
    "categorical.drop(columns= drop_list, inplace= True)\n",
    "categorical.head()"
   ]
  },
  {
   "cell_type": "code",
   "execution_count": null,
   "metadata": {},
   "outputs": [],
   "source": [
    "print(categorical['GENDER'].value_counts(dropna=False))"
   ]
  },
  {
   "cell_type": "code",
   "execution_count": null,
   "metadata": {},
   "outputs": [],
   "source": [
    "categorical['GENDER'] = categorical['GENDER'].fillna('F')\n",
    "print(categorical['GENDER'].value_counts(dropna=False))"
   ]
  },
  {
   "cell_type": "code",
   "execution_count": null,
   "metadata": {},
   "outputs": [],
   "source": [
    "categorical['GENDER'].replace(['U','J','C','A'], 'other', inplace=True)\n",
    "categorical['GENDER'].value_counts(dropna=False)"
   ]
  },
  {
   "cell_type": "markdown",
   "metadata": {},
   "source": [
    "# 7.02\n"
   ]
  },
  {
   "cell_type": "code",
   "execution_count": null,
   "metadata": {},
   "outputs": [],
   "source": [
    "m = categorical[categorical['DOMAIN'].notna()]['DOMAIN'].mode()[0]"
   ]
  },
  {
   "cell_type": "code",
   "execution_count": null,
   "metadata": {},
   "outputs": [],
   "source": [
    "categorical['DOMAIN'] = categorical['DOMAIN'].fillna(m)"
   ]
  },
  {
   "cell_type": "code",
   "execution_count": null,
   "metadata": {},
   "outputs": [],
   "source": [
    "categorical['DOMAIN_A'] = list(map(lambda x: x[0], categorical['DOMAIN']))\n",
    "categorical['DOMAIN_B'] = list(map(lambda x: x[1], categorical['DOMAIN']))"
   ]
  },
  {
   "cell_type": "code",
   "execution_count": null,
   "metadata": {},
   "outputs": [],
   "source": [
    "categorical = categorical.drop(columns=['DOMAIN'])"
   ]
  },
  {
   "cell_type": "code",
   "execution_count": null,
   "metadata": {},
   "outputs": [],
   "source": [
    "drop_columns_list += ['RDATE_3', 'RAMNT_3']"
   ]
  },
  {
   "cell_type": "code",
   "execution_count": null,
   "metadata": {},
   "outputs": [],
   "source": [
    "drop_columns_list += ['MDMAUD_R', 'MDMAUD_F','MDMAUD_A']"
   ]
  },
  {
   "cell_type": "code",
   "execution_count": null,
   "metadata": {},
   "outputs": [],
   "source": [
    "m = categorical[categorical['CLUSTER'].notna()]['CLUSTER'].mode()[0]"
   ]
  },
  {
   "cell_type": "code",
   "execution_count": null,
   "metadata": {},
   "outputs": [],
   "source": [
    "categorical['CLUSTER'] = categorical['CLUSTER'].fillna(m)"
   ]
  },
  {
   "cell_type": "code",
   "execution_count": null,
   "metadata": {},
   "outputs": [],
   "source": [
    "m = categorical[categorical['HOMEOWNR'].notna()]['HOMEOWNR'].mode()[0]"
   ]
  },
  {
   "cell_type": "code",
   "execution_count": null,
   "metadata": {},
   "outputs": [],
   "source": [
    "categorical['HOMEOWNR'] = categorical['HOMEOWNR'].fillna(m)"
   ]
  },
  {
   "cell_type": "code",
   "execution_count": null,
   "metadata": {},
   "outputs": [],
   "source": [
    "drop_columns_list += [col for col in categorical.columns if ((\"RFA\" in col) and ( col not in ['RFA_2R','RFA_2A']))]"
   ]
  },
  {
   "cell_type": "code",
   "execution_count": null,
   "metadata": {},
   "outputs": [],
   "source": [
    "cat_columns_to_drop = [col for col in drop_columns_list if col in list(categorical.columns)]\n"
   ]
  },
  {
   "cell_type": "code",
   "execution_count": null,
   "metadata": {},
   "outputs": [],
   "source": [
    "categorical = categorical.drop(columns=cat_columns_to_drop, axis=1)\n"
   ]
  },
  {
   "cell_type": "code",
   "execution_count": null,
   "metadata": {},
   "outputs": [],
   "source": [
    "categorical.columns"
   ]
  },
  {
   "cell_type": "code",
   "execution_count": null,
   "metadata": {},
   "outputs": [],
   "source": [
    "remove_cols_with_na(numerical,0.25)"
   ]
  },
  {
   "cell_type": "code",
   "execution_count": null,
   "metadata": {},
   "outputs": [],
   "source": [
    "numerical['AGE'] = numerical[\"AGE\"].fillna(np.median(numerical['AGE']))"
   ]
  },
  {
   "cell_type": "code",
   "execution_count": null,
   "metadata": {},
   "outputs": [],
   "source": [
    "m = numerical['INCOME'].mode()[0]\n",
    "numerical['INCOME'] = numerical['INCOME'].fillna(m) # Replacing the null values with the most represented categoty"
   ]
  },
  {
   "cell_type": "code",
   "execution_count": null,
   "metadata": {},
   "outputs": [],
   "source": [
    "numerical['CLUSTER2'] = numerical['CLUSTER2'].fillna(np.ceil(np.mean(numerical['CLUSTER2'])))"
   ]
  },
  {
   "cell_type": "code",
   "execution_count": null,
   "metadata": {},
   "outputs": [],
   "source": [
    "num_cols_to_drop = [col for col in list(numerical.columns) if \"ADATE_\" in col]\n",
    "numerical.drop(columns=num_cols_to_drop, axis = 1, inplace = True)"
   ]
  },
  {
   "cell_type": "markdown",
   "metadata": {},
   "source": [
    "# Lab | Feature engineering"
   ]
  },
  {
   "cell_type": "code",
   "execution_count": null,
   "metadata": {},
   "outputs": [],
   "source": [
    "null_count= numerical.isna().sum()"
   ]
  },
  {
   "cell_type": "code",
   "execution_count": null,
   "metadata": {},
   "outputs": [],
   "source": [
    "# Cleaning the GEOCODE2 column\n",
    "categorical['GEOCODE2'].value_counts(dropna=False)"
   ]
  },
  {
   "cell_type": "code",
   "execution_count": null,
   "metadata": {},
   "outputs": [],
   "source": [
    "m = categorical['GEOCODE2'].mode()[0]\n",
    "categorical['GEOCODE2'] = categorical['GEOCODE2'].fillna(m) \n",
    "categorical['GEOCODE2'].value_counts(dropna=False)"
   ]
  },
  {
   "cell_type": "code",
   "execution_count": null,
   "metadata": {},
   "outputs": [],
   "source": [
    "# Cleaning the WEALTH1 column\n",
    "numerical['WEALTH1'].value_counts(dropna=False)"
   ]
  },
  {
   "cell_type": "code",
   "execution_count": null,
   "metadata": {},
   "outputs": [],
   "source": [
    "fig, ax = plt.subplots(1,3,figsize=(16,5))\n",
    "sns.histplot(numerical['WEALTH1'], ax = ax[0])\n",
    "sns.histplot(numerical[\"WEALTH1\"].fillna(np.mean(numerical[numerical['WEALTH1'].notna()]['WEALTH1'])), ax = ax[1])\n",
    "sns.histplot(numerical['WEALTH1'].fillna(np.median(numerical[numerical['WEALTH1'].notna()]['WEALTH1'])),ax = ax[2])\n",
    "plt.show()\n"
   ]
  },
  {
   "cell_type": "code",
   "execution_count": null,
   "metadata": {},
   "outputs": [],
   "source": [
    "median= np.median(numerical['WEALTH1'].dropna())\n",
    "numerical['WEALTH1'] = numerical['WEALTH1'].fillna(median)\n",
    "numerical['WEALTH1'].value_counts(dropna=False)"
   ]
  },
  {
   "cell_type": "code",
   "execution_count": null,
   "metadata": {},
   "outputs": [],
   "source": [
    "print(numerical['ADI'].value_counts())\n",
    "print(numerical['ADI'].isna().sum()) #only 132 NaN values\n",
    "ADI_mean= np.mean(numerical[numerical['ADI'].notna()]['ADI'])\n",
    "ADI_median= np.median(numerical[numerical['ADI'].notna()]['ADI'])\n",
    "print(\"mean:\", ADI_mean)\n",
    "print(\"median:\", ADI_median)"
   ]
  },
  {
   "cell_type": "code",
   "execution_count": null,
   "metadata": {},
   "outputs": [],
   "source": [
    "fig, ax = plt.subplots(1,3,figsize=(16,5))\n",
    "sns.histplot(numerical['ADI'], ax = ax[0])\n",
    "sns.histplot(numerical[\"ADI\"].fillna(np.mean(numerical[numerical['ADI'].notna()]['ADI'])), ax = ax[1])\n",
    "sns.histplot(numerical['ADI'].fillna(np.median(numerical[numerical['ADI'].notna()]['ADI'])),ax = ax[2])\n",
    "plt.show()\n",
    "# I do not see a siginificant difference, and as the value are integers, i will replace with the median value\n",
    "numerical['ADI'] = numerical['ADI'].fillna(ADI_median)"
   ]
  },
  {
   "cell_type": "code",
   "execution_count": null,
   "metadata": {},
   "outputs": [],
   "source": [
    "print(numerical['ADI'].isna().sum())"
   ]
  },
  {
   "cell_type": "code",
   "execution_count": null,
   "metadata": {},
   "outputs": [],
   "source": [
    "print(numerical['DMA'].value_counts(dropna=False))\n",
    "print(numerical['DMA'].isna().sum()) #only 132 NaN values\n",
    "DMA_mean= np.mean(numerical[numerical['DMA'].notna()]['DMA'])\n",
    "DMA_median= np.median(numerical[numerical['DMA'].notna()]['DMA'])\n",
    "print(\"mean:\", DMA_mean)\n",
    "print(\"median:\", DMA_median)"
   ]
  },
  {
   "cell_type": "code",
   "execution_count": null,
   "metadata": {},
   "outputs": [],
   "source": [
    "fig, ax = plt.subplots(1,3,figsize=(16,5))\n",
    "sns.histplot(numerical['DMA'], ax = ax[0])\n",
    "sns.histplot(numerical[\"DMA\"].fillna(DMA_mean), ax = ax[1])\n",
    "sns.histplot(numerical['DMA'].fillna(DMA_median),ax = ax[2])\n",
    "plt.show()\n",
    "# I do not see a siginificant difference, and as the value are integers, i will replace with the median value\n",
    "numerical['DMA'] = numerical['DMA'].fillna(DMA_median)"
   ]
  },
  {
   "cell_type": "code",
   "execution_count": null,
   "metadata": {},
   "outputs": [],
   "source": [
    "print(numerical['DMA'].isna().sum())"
   ]
  },
  {
   "cell_type": "code",
   "execution_count": null,
   "metadata": {},
   "outputs": [],
   "source": [
    "print(numerical['MSA'].value_counts(dropna=False))\n",
    "print(numerical['MSA'].isna().sum()) #only 132 NaN values\n",
    "MSA_mean= np.mean(numerical[numerical['MSA'].notna()]['MSA'])\n",
    "MSA_median= np.median(numerical[numerical['MSA'].notna()]['MSA'])\n",
    "print(\"mean:\", MSA_mean)\n",
    "print(\"median:\", MSA_median)"
   ]
  },
  {
   "cell_type": "code",
   "execution_count": null,
   "metadata": {},
   "outputs": [],
   "source": [
    "fig, ax = plt.subplots(1,3,figsize=(16,5))\n",
    "sns.histplot(numerical['MSA'], ax = ax[0])\n",
    "sns.histplot(numerical[\"MSA\"].fillna(MSA_mean), ax = ax[1])\n",
    "sns.histplot(numerical['MSA'].fillna(MSA_median),ax = ax[2])\n",
    "plt.show()\n",
    "# I do not see a siginificant difference, and as the value are integers, i will replace with the median value\n",
    "numerical['MSA'] = numerical['MSA'].fillna(MSA_median)"
   ]
  },
  {
   "cell_type": "code",
   "execution_count": null,
   "metadata": {},
   "outputs": [],
   "source": [
    "print(numerical['MSA'].isna().sum())"
   ]
  },
  {
   "cell_type": "code",
   "execution_count": null,
   "metadata": {},
   "outputs": [],
   "source": []
  }
 ],
 "metadata": {
  "colab": {
   "provenance": []
  },
  "kernelspec": {
   "display_name": "Python 3 (ipykernel)",
   "language": "python",
   "name": "python3"
  },
  "language_info": {
   "codemirror_mode": {
    "name": "ipython",
    "version": 3
   },
   "file_extension": ".py",
   "mimetype": "text/x-python",
   "name": "python",
   "nbconvert_exporter": "python",
   "pygments_lexer": "ipython3",
   "version": "3.11.5"
  }
 },
 "nbformat": 4,
 "nbformat_minor": 1
}
